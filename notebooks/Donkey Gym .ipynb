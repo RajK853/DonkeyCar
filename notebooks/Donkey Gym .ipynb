{
 "cells": [
  {
   "cell_type": "code",
   "execution_count": 1,
   "metadata": {},
   "outputs": [
    {
     "name": "stderr",
     "output_type": "stream",
     "text": [
      "/home/rajk/miniconda3/envs/donkey/lib/python3.7/site-packages/tensorflow/python/framework/dtypes.py:526: FutureWarning: Passing (type, 1) or '1type' as a synonym of type is deprecated; in a future version of numpy, it will be understood as (type, (1,)) / '(1,)type'.\n",
      "  _np_qint8 = np.dtype([(\"qint8\", np.int8, 1)])\n",
      "/home/rajk/miniconda3/envs/donkey/lib/python3.7/site-packages/tensorflow/python/framework/dtypes.py:527: FutureWarning: Passing (type, 1) or '1type' as a synonym of type is deprecated; in a future version of numpy, it will be understood as (type, (1,)) / '(1,)type'.\n",
      "  _np_quint8 = np.dtype([(\"quint8\", np.uint8, 1)])\n",
      "/home/rajk/miniconda3/envs/donkey/lib/python3.7/site-packages/tensorflow/python/framework/dtypes.py:528: FutureWarning: Passing (type, 1) or '1type' as a synonym of type is deprecated; in a future version of numpy, it will be understood as (type, (1,)) / '(1,)type'.\n",
      "  _np_qint16 = np.dtype([(\"qint16\", np.int16, 1)])\n",
      "/home/rajk/miniconda3/envs/donkey/lib/python3.7/site-packages/tensorflow/python/framework/dtypes.py:529: FutureWarning: Passing (type, 1) or '1type' as a synonym of type is deprecated; in a future version of numpy, it will be understood as (type, (1,)) / '(1,)type'.\n",
      "  _np_quint16 = np.dtype([(\"quint16\", np.uint16, 1)])\n",
      "/home/rajk/miniconda3/envs/donkey/lib/python3.7/site-packages/tensorflow/python/framework/dtypes.py:530: FutureWarning: Passing (type, 1) or '1type' as a synonym of type is deprecated; in a future version of numpy, it will be understood as (type, (1,)) / '(1,)type'.\n",
      "  _np_qint32 = np.dtype([(\"qint32\", np.int32, 1)])\n",
      "/home/rajk/miniconda3/envs/donkey/lib/python3.7/site-packages/tensorflow/python/framework/dtypes.py:535: FutureWarning: Passing (type, 1) or '1type' as a synonym of type is deprecated; in a future version of numpy, it will be understood as (type, (1,)) / '(1,)type'.\n",
      "  np_resource = np.dtype([(\"resource\", np.ubyte, 1)])\n"
     ]
    },
    {
     "name": "stdout",
     "output_type": "stream",
     "text": [
      "using donkey v3.1.1 ...\n"
     ]
    }
   ],
   "source": [
    "import os\n",
    "import sys\n",
    "import tensorflow as tf\n",
    "import tensorflow.compat.v1 as tf_v1\n",
    "from donkeycar import Vehicle\n",
    "from donkeycar.parts.dgym import DonkeyGymEnv\n",
    "from donkeycar.parts.datastore import TubHandler\n",
    "from donkeycar.parts.controller import LocalWebController"
   ]
  },
  {
   "cell_type": "code",
   "execution_count": 2,
   "metadata": {},
   "outputs": [],
   "source": [
    "SRC_DIR = os.path.dirname(os.path.abspath(\".\"))\n",
    "sys.path.insert(0, SRC_DIR)"
   ]
  },
  {
   "cell_type": "code",
   "execution_count": 3,
   "metadata": {},
   "outputs": [],
   "source": [
    "from src.model import DonkeyNet\n",
    "from src.utils import crop_img"
   ]
  },
  {
   "cell_type": "code",
   "execution_count": 4,
   "metadata": {},
   "outputs": [],
   "source": [
    "class DriveMode:\n",
    "    @staticmethod\n",
    "    def run(user_steering, user_throttle, pilot_steering, pilot_throttle, mode):\n",
    "        auto_mode = (mode != \"user\")\n",
    "        if auto_mode:\n",
    "            return pilot_steering, pilot_throttle, auto_mode\n",
    "        return user_steering, user_throttle, auto_mode"
   ]
  },
  {
   "cell_type": "code",
   "execution_count": 5,
   "metadata": {},
   "outputs": [],
   "source": [
    "class DonkeyNetCtr:\n",
    "    def __init__(self, sess, input_shape, model_path, throttle=0.15):\n",
    "        self.sess = sess\n",
    "        self.throttle = throttle\n",
    "        self.input_shape = input_shape\n",
    "        self.model = DonkeyNet(version=1, input_shape=input_shape)\n",
    "        sess.run(tf.global_variables_initializer())\n",
    "        self.model.restore_model(sess, os.path.join(model_path, \"model.chkpt\"))\n",
    "        \n",
    "    def run(self, img_array):\n",
    "        img_array = [crop_img(img_array, crop_dim=(slice(20, -1),))]\n",
    "        steering = self.model.predict(self.sess, img_array)[0][0]\n",
    "        return steering, self.throttle\n",
    "    \n",
    "    def shutdown():\n",
    "        self.sess.close()"
   ]
  },
  {
   "cell_type": "code",
   "execution_count": 6,
   "metadata": {},
   "outputs": [],
   "source": [
    "class RandomController:\n",
    "    def __init__(self, env):\n",
    "        self.env = env\n",
    "        \n",
    "    def run(self):\n",
    "        steering, throttle = self.env.action_space.sample()\n",
    "        return steering, throttle"
   ]
  },
  {
   "cell_type": "code",
   "execution_count": 7,
   "metadata": {},
   "outputs": [],
   "source": [
    "os.environ[\"CUDA_VISIBLE_DEVICES\"]=\"-1\"\n",
    "SIM_PATH = r\"/home/rajk/Machine_Learning/DonkeySimLinux/donkey_sim.x86_64\"\n",
    "RECORD_PATH = r\"/home/rajk/LogDir/\"\n",
    "MODEL_PATH = r\"/home/rajk/Machine_Learning/DonkeyCar Project/models/DonkeyNetV1Model_BigNoFlip/\"\n",
    "PORT = 9090\n",
    "HEADLESS = 0"
   ]
  },
  {
   "cell_type": "code",
   "execution_count": 8,
   "metadata": {},
   "outputs": [],
   "source": [
    "car = Vehicle()"
   ]
  },
  {
   "cell_type": "code",
   "execution_count": 9,
   "metadata": {},
   "outputs": [],
   "source": [
    "GPU_OPTIONS = tf_v1.GPUOptions(per_process_gpu_memory_fraction=0.75)\n",
    "TF_CONFIG = tf_v1.ConfigProto(gpu_options=GPU_OPTIONS, allow_soft_placement=True)\n",
    "sess = tf_v1.Session(config=TF_CONFIG)"
   ]
  },
  {
   "cell_type": "code",
   "execution_count": 10,
   "metadata": {
    "scrolled": false
   },
   "outputs": [
    {
     "name": "stderr",
     "output_type": "stream",
     "text": [
      "/home/rajk/miniconda3/envs/donkey/lib/python3.7/site-packages/gym/logger.py:30: UserWarning: \u001b[33mWARN: Box bound precision lowered by casting to float32\u001b[0m\n",
      "  warnings.warn(colorize('%s: %s'%('WARN', msg % args), 'yellow'))\n",
      "waiting for sim to start..\n"
     ]
    },
    {
     "name": "stdout",
     "output_type": "stream",
     "text": [
      "starting DonkeyGym env\n",
      "donkey subprocess started\n",
      "binding to ('0.0.0.0', 9090)\n"
     ]
    },
    {
     "name": "stderr",
     "output_type": "stream",
     "text": [
      "waiting for sim to start..\n",
      "waiting for sim to start..\n",
      "waiting for sim to start..\n"
     ]
    },
    {
     "name": "stdout",
     "output_type": "stream",
     "text": [
      "got a new client ('127.0.0.1', 44264)\n",
      "connection dropped\n",
      "got a new client ('127.0.0.1', 44266)\n",
      "Starting Donkey Server...\n",
      "WARNING:tensorflow:From /home/rajk/miniconda3/envs/donkey/lib/python3.7/site-packages/tensorflow/python/ops/resource_variable_ops.py:435: colocate_with (from tensorflow.python.framework.ops) is deprecated and will be removed in a future version.\n",
      "Instructions for updating:\n",
      "Colocations handled automatically by placer.\n",
      "WARNING:tensorflow:From /home/rajk/miniconda3/envs/donkey/lib/python3.7/site-packages/tensorflow/python/keras/layers/core.py:143: calling dropout (from tensorflow.python.ops.nn_ops) with keep_prob is deprecated and will be removed in a future version.\n",
      "Instructions for updating:\n",
      "Please use `rate` instead of `keep_prob`. Rate should be set to `rate = 1 - keep_prob`.\n",
      "Model DonkeyNetV1Model with 14 built!\n",
      "\n",
      "WARNING:tensorflow:From /home/rajk/miniconda3/envs/donkey/lib/python3.7/site-packages/tensorflow/python/ops/losses/losses_impl.py:667: to_float (from tensorflow.python.ops.math_ops) is deprecated and will be removed in a future version.\n",
      "Instructions for updating:\n",
      "Use tf.cast instead.\n",
      "WARNING:tensorflow:From /home/rajk/miniconda3/envs/donkey/lib/python3.7/site-packages/tensorflow/python/training/saver.py:1266: checkpoint_exists (from tensorflow.python.training.checkpoint_management) is deprecated and will be removed in a future version.\n",
      "Instructions for updating:\n",
      "Use standard file APIs to check for files with this prefix.\n",
      "INFO:tensorflow:Restoring parameters from /home/rajk/Machine_Learning/DonkeyCar Project/models/DonkeyNetV1Model_BigNoFlip/model.chkpt\n",
      "Model restored from '/home/rajk/Machine_Learning/DonkeyCar Project/models/DonkeyNetV1Model_BigNoFlip/model.chkpt'!\n",
      "Tub does NOT exist. Creating new tub...\n",
      "New tub created at: /home/rajk/LogDir/tub_24_20-02-14\n"
     ]
    }
   ],
   "source": [
    "donkey_env = DonkeyGymEnv(SIM_PATH, port=PORT, headless=HEADLESS)\n",
    "cam = {\"part\": donkey_env, \n",
    "       \"inputs\": [\"steering\", \"throttle\"],\n",
    "       \"outputs\": [\"cam/image_array\"], \n",
    "       \"threaded\": True}\n",
    "\n",
    "ctr = {\"part\": LocalWebController(), \n",
    "       \"inputs\": [\"cam/image_array\"],\n",
    "       \"outputs\": [\"user/steering\", \"user/throttle\", \"user/mode\", \"recording\"], \n",
    "       \"threaded\": True}\n",
    "\n",
    "random_ctr = {\"part\": RandomController(donkey_env.env),              \n",
    "              \"outputs\": [\"random/steering\", \"random/throttle\"],\n",
    "              \"run_condition\": \"drive/auto\"}\n",
    "\n",
    "input_shape = list(donkey_env.env.observation_space.shape)\n",
    "input_shape[0] = 99\n",
    "throttle=0.35\n",
    "donkeynet_ctr = {\"part\": DonkeyNetCtr(sess, input_shape=input_shape, model_path=MODEL_PATH, throttle=throttle),\n",
    "             \"inputs\": [\"cam/image_array\"],\n",
    "             \"outputs\": [\"random/steering\", \"random/throttle\"],\n",
    "             \"run_condition\": \"drive/auto\"}\n",
    "\n",
    "drive_mode = {\"part\": DriveMode(),\n",
    "              \"inputs\": [\"user/steering\", \"user/throttle\", \"random/steering\", \"random/throttle\", \"user/mode\"],\n",
    "              \"outputs\": [\"steering\", \"throttle\", \"drive/auto\"]}\n",
    "\n",
    "tub_handler = TubHandler(path=RECORD_PATH)\n",
    "tub_inputs = [\"cam/image_array\", \"user/angle\", \"user/throttle\"]\n",
    "tub_input_types = [\"image_array\", \"float\", \"float\"]\n",
    "tub_writer = {\"part\": tub_handler.new_tub_writer(inputs=tub_inputs, types=tub_input_types, user_meta=[]),\n",
    "              \"inputs\": tub_inputs,\n",
    "              \"outputs\": [\"tub/num_records\"], \n",
    "              \"run_condition\": \"recording\"}"
   ]
  },
  {
   "cell_type": "code",
   "execution_count": 11,
   "metadata": {},
   "outputs": [
    {
     "name": "stdout",
     "output_type": "stream",
     "text": [
      "Adding part DonkeyGymEnv.\n",
      "Adding part LocalWebController.\n",
      "Adding part DonkeyNetCtr.\n",
      "Adding part DriveMode.\n",
      "Adding part TubWriter.\n"
     ]
    }
   ],
   "source": [
    "for part in (cam, ctr, donkeynet_ctr, drive_mode, tub_writer):\n",
    "    car.add(**part)"
   ]
  },
  {
   "cell_type": "code",
   "execution_count": 12,
   "metadata": {
    "scrolled": false
   },
   "outputs": [
    {
     "name": "stdout",
     "output_type": "stream",
     "text": [
      "Web controller port: 8887\n",
      "Starting vehicle...\n",
      "fps 12.472032142087839\n",
      "fps 19.98883013246906\n",
      "fps 19.997573193370002\n",
      "fps 19.990087655947963\n",
      "fps 20.05207041027081\n",
      "fps 19.97695814892462\n",
      "fps 20.01256873811959\n",
      "fps 19.984271983666876\n",
      "fps 19.979806329014313\n",
      "fps 20.05543294767437\n",
      "fps 19.98918260415199\n",
      "fps 19.991958038424865\n",
      "fps 20.002366345925534\n",
      "fps 19.970599542128387\n",
      "fps 19.994673240690435\n",
      "fps 20.05010346040468\n",
      "fps 20.005903078472596\n",
      "fps 19.98803187769469\n",
      "fps 19.984295788069375\n",
      "fps 19.995261361648208\n",
      "fps 20.059082485443394\n",
      "fps 19.972106788838467\n",
      "fps 19.997699048623833\n",
      "fps 19.987866138276747\n",
      "fps 19.959608753400538\n",
      "fps 20.087034634405352\n",
      "fps 19.970240118780513\n",
      "fps 19.99810904263346\n",
      "fps 19.980464009546484\n",
      "fps 19.99127387423302\n",
      "fps 20.00776115116905\n",
      "fps 20.036933312135407\n",
      "fps 19.998042298276978\n",
      "fps 19.99668557743706\n",
      "fps 19.988277634304794\n",
      "fps 19.96981985709425\n",
      "fps 20.047803423786632\n",
      "fps 20.005424062787103\n",
      "fps 19.979476077407092\n",
      "fps 19.989003508878614\n",
      "fps 19.991211939674766\n",
      "fps 20.05860283832092\n",
      "fps 19.98194799486586\n",
      "fps 19.987633726711078\n",
      "fps 19.995163180217112\n",
      "fps 19.98767944659204\n",
      "fps 20.04891983398556\n",
      "fps 19.985539408922627\n",
      "fps 20.018496437333404\n",
      "fps 19.983243687617932\n",
      "fps 19.98138255047625\n",
      "fps 19.997767697611803\n",
      "fps 20.062835076841452\n",
      "fps 19.98769468659884\n",
      "fps 19.976336853022442\n",
      "fps 19.994291981406562\n",
      "fps 19.97104836404973\n",
      "fps 20.05679477489984\n",
      "fps 19.997650422542517\n",
      "fps 19.99850665753242\n",
      "fps 19.992404962046976\n",
      "fps 19.98157483605482\n",
      "fps 20.05409527634539\n",
      "fps 19.99187227711512\n",
      "fps 19.989868530625724\n",
      "fps 19.98908734030918\n",
      "Shutting down vehicle and its parts...\n",
      "connection dropped\n",
      "closing donkey sim subprocess\n",
      "shutdown() takes 0 positional arguments but 1 was given\n",
      "Part Profile Summary: (times in ms)\n",
      "+--------------------+------+------+------+--------+\n",
      "|        part        | max  | min  | avg  | median |\n",
      "+--------------------+------+------+------+--------+\n",
      "|    DonkeyGymEnv    | 0.28 | 0.01 | 0.04 |  0.03  |\n",
      "| LocalWebController | 0.39 | 0.01 | 0.03 |  0.03  |\n",
      "|    DonkeyNetCtr    | 8.90 | 1.87 | 6.75 |  6.73  |\n",
      "|     DriveMode      | 0.24 | 0.00 | 0.03 |  0.02  |\n",
      "|     TubWriter      | 3.86 | 1.49 | 2.94 |  2.97  |\n",
      "+--------------------+------+------+------+--------+\n"
     ]
    }
   ],
   "source": [
    "car.start()"
   ]
  }
 ],
 "metadata": {
  "kernelspec": {
   "display_name": "Python 3",
   "language": "python",
   "name": "python3"
  },
  "language_info": {
   "codemirror_mode": {
    "name": "ipython",
    "version": 3
   },
   "file_extension": ".py",
   "mimetype": "text/x-python",
   "name": "python",
   "nbconvert_exporter": "python",
   "pygments_lexer": "ipython3",
   "version": "3.7.6"
  }
 },
 "nbformat": 4,
 "nbformat_minor": 4
}
