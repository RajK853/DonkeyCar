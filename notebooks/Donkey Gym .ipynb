{
 "cells": [
  {
   "cell_type": "code",
   "execution_count": null,
   "metadata": {},
   "outputs": [],
   "source": [
    "import os\n",
    "import sys\n",
    "import tensorflow as tf\n",
    "import tensorflow.compat.v1 as tf_v1\n",
    "from donkeycar import Vehicle\n",
    "from donkeycar.parts.dgym import DonkeyGymEnv\n",
    "from donkeycar.parts.datastore import TubHandler\n",
    "from donkeycar.parts.controller import LocalWebController"
   ]
  },
  {
   "cell_type": "code",
   "execution_count": null,
   "metadata": {},
   "outputs": [],
   "source": [
    "SRC_DIR = os.path.dirname(os.path.abspath(\".\"))\n",
    "sys.path.insert(0, SRC_DIR)"
   ]
  },
  {
   "cell_type": "code",
   "execution_count": null,
   "metadata": {},
   "outputs": [],
   "source": [
    "from src.pid_controller import PIDController\n",
    "from src.utils import ContextManagerWrapper\n",
    "from src.parts import DonkeyNetController, DriveSelector"
   ]
  },
  {
   "cell_type": "code",
   "execution_count": null,
   "metadata": {},
   "outputs": [],
   "source": [
    "os.environ[\"CUDA_VISIBLE_DEVICES\"]=\"-1\"\n",
    "RECORD_PATH = r\"/home/rajk/LogDir/\"\n",
    "THROTTLE = 0.2\n",
    "SIM_RATE = 20\n",
    "version = 1\n",
    "MODEL_PATH = os.path.join(SRC_DIR, fr\"models/new/DonkeyNetV{version}Model_BigNoFlip/\")"
   ]
  },
  {
   "cell_type": "code",
   "execution_count": null,
   "metadata": {
    "scrolled": false
   },
   "outputs": [],
   "source": [
    "GPU_OPTIONS = tf_v1.GPUOptions(per_process_gpu_memory_fraction=0.75)\n",
    "TF_CONFIG = tf_v1.ConfigProto(gpu_options=GPU_OPTIONS, allow_soft_placement=True)\n",
    "with tf_v1.Session(config=TF_CONFIG) as sess:\n",
    "    with ContextManagerWrapper(Vehicle(), exit_method=\"stop\") as car:\n",
    "        SIM_PATH = r\"/home/rajk/Machine_Learning/DonkeySimLinux/donkey_sim.x86_64\"\n",
    "        donkey_env = DonkeyGymEnv(SIM_PATH, port=9090, headless=0)\n",
    "        car.add(donkey_env,\n",
    "                inputs=[\"steering\", \"throttle\"],\n",
    "                outputs=[\"cam/image_array\"],\n",
    "                threaded=True)\n",
    "\n",
    "        print(\"Web controller available at: localhost:{WEB_CONTROLLER_PORT}\")\n",
    "        car.add(LocalWebController(),\n",
    "                inputs=[\"cam/image_array\"],\n",
    "                outputs=[\"user/steering\", \"user/throttle\", \"user/mode\", \"recording\"],\n",
    "                threaded=True)\n",
    "\n",
    "        input_shape = donkey_env.env.observation_space.shape\n",
    "        donkey_net_ctr = DonkeyNetController(sess, input_shape=input_shape, model_path=MODEL_PATH,\n",
    "                                             version=version, throttle=THROTTLE)\n",
    "        car.add(donkey_net_ctr,\n",
    "                inputs=[\"cam/image_array\"],\n",
    "                outputs=[\"random/steering\", \"random/throttle\"],\n",
    "                run_condition=\"drive/auto\")\n",
    "\n",
    "        pid_values = {\"P\": -5.7e-1, \"I\": -7e-2, \"D\": -2.2e-1}\n",
    "        print(f\"PID values: {pid_values}\")\n",
    "        pid_ctr = PIDController(**pid_values, min_value=-1.0, max_value=1.0, store_n_errors=20, target_value=0.0)\n",
    "        car.add(DriveSelector(pid_ctr),\n",
    "                inputs=[\"user/steering\", \"user/throttle\", \"random/steering\", \"random/throttle\", \"user/mode\"],\n",
    "                outputs=[\"steering\", \"throttle\", \"drive/auto\"])\n",
    "\n",
    "        if RECORD_PATH:\n",
    "            tub_handler = TubHandler(path=RECORD_PATH)\n",
    "            tub_inputs = [\"cam/image_array\", \"user/angle\", \"user/throttle\"]\n",
    "            tub_input_types = [\"image_array\", \"float\", \"float\"]\n",
    "            car.add(tub_handler.new_tub_writer(inputs=tub_inputs, types=tub_input_types, user_meta=[]),\n",
    "                    inputs=tub_inputs,\n",
    "                    outputs=[\"tub/num_records\"],\n",
    "                    run_condition=\"recording\")\n",
    "        car.start(rate_hz=SIM_RATE)"
   ]
  }
 ],
 "metadata": {
  "kernelspec": {
   "display_name": "Python 3",
   "language": "python",
   "name": "python3"
  },
  "language_info": {
   "codemirror_mode": {
    "name": "ipython",
    "version": 3
   },
   "file_extension": ".py",
   "mimetype": "text/x-python",
   "name": "python",
   "nbconvert_exporter": "python",
   "pygments_lexer": "ipython3",
   "version": "3.7.6"
  }
 },
 "nbformat": 4,
 "nbformat_minor": 4
}
